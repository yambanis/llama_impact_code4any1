{
 "cells": [
  {
   "cell_type": "code",
   "execution_count": 2,
   "metadata": {},
   "outputs": [
    {
     "data": {
      "text/plain": [
       "True"
      ]
     },
     "execution_count": 2,
     "metadata": {},
     "output_type": "execute_result"
    }
   ],
   "source": [
    "import os\n",
    "import json\n",
    "from groq import Groq\n",
    "from dotenv import find_dotenv, load_dotenv\n",
    "\n",
    "load_dotenv(find_dotenv())"
   ]
  },
  {
   "cell_type": "code",
   "execution_count": 3,
   "metadata": {},
   "outputs": [],
   "source": [
    "client = Groq(api_key=os.environ[\"GROQ_API_KEY\"])"
   ]
  },
  {
   "cell_type": "markdown",
   "metadata": {},
   "source": [
    "## System prompt"
   ]
  },
  {
   "cell_type": "code",
   "execution_count": 4,
   "metadata": {},
   "outputs": [],
   "source": [
    "SYSTEM_PROMPT = \"\"\"\\\n",
    "You are part of a system that teaches programming.\n",
    "Choose the function that fits best the next user message.\n",
    "\"\"\""
   ]
  },
  {
   "cell_type": "markdown",
   "metadata": {},
   "source": [
    "## Functions"
   ]
  },
  {
   "cell_type": "markdown",
   "metadata": {},
   "source": [
    "### Tópico"
   ]
  },
  {
   "cell_type": "code",
   "execution_count": null,
   "metadata": {},
   "outputs": [],
   "source": [
    "EXPLAIN_FUNCTION_NAME = \"explain_topic\"\n",
    "EXPLAIN_FUNCTION_DESC = \"\"\"\\\n",
    "Creates an explanation for a programming topic for the user.\n",
    "Takes into account previous explanations in order to write clearer explanations, if the topic has already been explained before.\\\n",
    "\"\"\"\n",
    "EXPLAIN_OBS_DESC = \"\"\"\\\n",
    "Some observations about the previous messages that should be considered when writing the explanation.\\\n",
    "\"\"\"\n",
    "\n",
    "create_explanation_function = {\n",
    "    \"type\": \"function\",\n",
    "    \"function\": {\n",
    "        \"name\": EXPLAIN_FUNCTION_NAME,\n",
    "        \"description\": EXPLAIN_FUNCTION_DESC,\n",
    "        \"parameters\": {\n",
    "            \"type\": \"object\",\n",
    "            \"properties\": {\n",
    "                \"observations\": {\"type\": \"string\", \"description\": EXPLAIN_OBS_DESC}\n",
    "            },\n",
    "            \"required\": [\"observations\"],\n",
    "        },\n",
    "    },\n",
    "}\n",
    "\n",
    "\n",
    "# TODO\n",
    "def explain_topic(*args, **kwargs):\n",
    "    return kwargs"
   ]
  },
  {
   "cell_type": "markdown",
   "metadata": {},
   "source": [
    "### Questão"
   ]
  },
  {
   "cell_type": "code",
   "execution_count": null,
   "metadata": {},
   "outputs": [],
   "source": [
    "QUESTION_FUNCTION_NAME = \"create_topic_question\"\n",
    "QUESTION_FUNCTION_DESC = \"\"\"\\\n",
    "Call this tool to create a question for the user about the last topic.\n",
    "ALWAYS call this tool ONLY if the user said that they already understood the previous explanation.\\\n",
    "\"\"\"\n",
    "QUESTION_OBS_DESC = \"\"\"\\\n",
    "Some observations about the previous messages that should be considered when writing the question.\\\n",
    "\"\"\"\n",
    "\n",
    "create_question_function = {\n",
    "    \"type\": \"function\",\n",
    "    \"function\": {\n",
    "        \"name\": QUESTION_FUNCTION_NAME,\n",
    "        \"description\": QUESTION_FUNCTION_DESC,\n",
    "        \"parameters\": {\n",
    "            \"type\": \"object\",\n",
    "            \"properties\": {\n",
    "                \"observations\": {\"type\": \"string\", \"description\": QUESTION_OBS_DESC}\n",
    "            },\n",
    "            \"required\": [\"observations\"],\n",
    "        },\n",
    "    },\n",
    "}\n",
    "\n",
    "\n",
    "# TODO\n",
    "def create_topic_question(*args, **kwargs):\n",
    "    return kwargs"
   ]
  },
  {
   "cell_type": "markdown",
   "metadata": {},
   "source": [
    "### Avalia questão"
   ]
  },
  {
   "cell_type": "code",
   "execution_count": null,
   "metadata": {},
   "outputs": [],
   "source": [
    "EVALUATE_FUNCTION_NAME = \"evaluate_user_answer\"\n",
    "EVALUATE_FUNCTION_DESC = \"\"\"\\\n",
    "Call this tool to decide if the answer for the last question is correct.\n",
    "ALWAYS call this tool ONLY if a question was answered the user said that they already understood the previous explanation.\\\n",
    "\"\"\"\n",
    "EVALUATE_OBS_DESC = \"\"\"\\\n",
    "Some observations about the previous messages that should be considered when evaluating the question.\\\n",
    "\"\"\"\n",
    "\n",
    "evaluate_question_function = {\n",
    "    \"type\": \"function\",\n",
    "    \"function\": {\n",
    "        \"name\": EVALUATE_FUNCTION_NAME,\n",
    "        \"description\": EVALUATE_FUNCTION_DESC,\n",
    "        \"parameters\": {\n",
    "            \"type\": \"object\",\n",
    "            \"properties\": {\n",
    "                \"observations\": {\"type\": \"string\", \"description\": EVALUATE_OBS_DESC}\n",
    "            },\n",
    "            \"required\": [\"observations\"],\n",
    "        },\n",
    "    },\n",
    "}\n",
    "\n",
    "\n",
    "# TODO\n",
    "def evaluate_user_answer(*args, **kwargs):\n",
    "    return kwargs"
   ]
  },
  {
   "cell_type": "markdown",
   "metadata": {},
   "source": [
    "### Atualiza estado"
   ]
  },
  {
   "cell_type": "code",
   "execution_count": 8,
   "metadata": {},
   "outputs": [],
   "source": [
    "UPDATE_FUNCTION_NAME = \"update_curriculum\"\n",
    "UPDATE_FUNCTION_DESC = \"\"\"\\\n",
    "Call this tool to update the curriculum.\n",
    "ALWAYS call this tool ONLY if the user answered the last question correctly.\\\n",
    "\"\"\"\n",
    "UPDATE_OBS_DESC = \"\"\"\\\n",
    "Some observations about the previous messages that should be considered when updating the curriculum.\\\n",
    "\"\"\"\n",
    "\n",
    "update_curriculum_function = {\n",
    "    \"type\": \"function\",\n",
    "    \"function\": {\n",
    "        \"name\": UPDATE_FUNCTION_NAME,\n",
    "        \"description\": UPDATE_FUNCTION_DESC,\n",
    "        \"parameters\": {\n",
    "            \"type\": \"object\",\n",
    "            \"required\": [\"observations\"],\n",
    "            \"properties\": {\n",
    "                \"observations\": {\"type\": \"string\", \"description\": UPDATE_OBS_DESC}\n",
    "            },\n",
    "        },\n",
    "    },\n",
    "}\n",
    "\n",
    "\n",
    "# TODO\n",
    "def update_curriculum(*args, **kwargs):\n",
    "    return kwargs"
   ]
  },
  {
   "cell_type": "markdown",
   "metadata": {},
   "source": [
    "### Gerar resposta"
   ]
  },
  {
   "cell_type": "code",
   "execution_count": 9,
   "metadata": {},
   "outputs": [],
   "source": [
    "do_nothing_function = {\n",
    "    \"type\": \"function\",\n",
    "    \"function\": {\n",
    "        \"name\": \"response_without_tools\",\n",
    "        \"description\": \"If you feel like you don't need to call a function\",\n",
    "        \"parameters\": {},\n",
    "        \"required\": [],\n",
    "    },\n",
    "}"
   ]
  },
  {
   "cell_type": "markdown",
   "metadata": {},
   "source": [
    "## Roteador"
   ]
  },
  {
   "cell_type": "code",
   "execution_count": null,
   "metadata": {},
   "outputs": [],
   "source": [
    "def execute_router(\n",
    "    client,\n",
    "    tools,\n",
    "    tool_names,\n",
    "    weights,\n",
    "    messages,\n",
    "    model=\"llama3-groq-70b-8192-tool-use-preview\",\n",
    "):\n",
    "    chat_completion = client.chat.completions.create(\n",
    "        messages=messages,\n",
    "        model=model,\n",
    "        tools=tools,\n",
    "        tool_choice=\"required\",\n",
    "    )\n",
    "\n",
    "    # TODO: Verificar argumentos\n",
    "    tool_calls = sorted(\n",
    "        [\n",
    "            (call, weights[call.function.name])\n",
    "            for call in chat_completion.choices[0].message.tool_calls\n",
    "            if call.function.name in tool_names\n",
    "        ],\n",
    "        key=lambda x: x[1],\n",
    "    )\n",
    "\n",
    "    if tool_calls:\n",
    "        (tool_call, _), *_ = tool_calls\n",
    "        return tool_call\n",
    "\n",
    "    else:\n",
    "        raise ValueError()"
   ]
  },
  {
   "cell_type": "code",
   "execution_count": null,
   "metadata": {},
   "outputs": [],
   "source": [
    "def execute_tool_call(tool_call):\n",
    "    args = json.loads(tool_call.function.arguments)\n",
    "\n",
    "    if tool_call.function.name == \"explain_topic\":\n",
    "        tool_response = explain_topic(**args)\n",
    "    elif tool_call.function.name == \"create_topic_question\":\n",
    "        tool_response = create_topic_question(**args)\n",
    "    elif tool_call.function.name == \"evaluate_user_answer\":\n",
    "        tool_response = evaluate_user_answer(**args)\n",
    "    elif tool_call.function.name == \"update_curriculum\":\n",
    "        tool_response = update_curriculum(**args)\n",
    "    elif tool_call.function.name == \"response_without_tools\":\n",
    "        tool_response = \"preguica de responderkkkj\"\n",
    "    else:\n",
    "        raise ValueError(tool_call.function.name)\n",
    "\n",
    "    return tool_response"
   ]
  },
  {
   "cell_type": "code",
   "execution_count": 12,
   "metadata": {},
   "outputs": [],
   "source": [
    "weights = {\n",
    "    \"response_without_tools\": float(\"-inf\"),\n",
    "    \"create_topic_explanation\": 1.0,\n",
    "}\n",
    "\n",
    "tools = [\n",
    "    create_explanation_function,\n",
    "    create_question_function,\n",
    "    evaluate_question_function,\n",
    "    update_curriculum_function,\n",
    "    do_nothing_function,\n",
    "]\n",
    "tool_names = [tool[\"function\"][\"name\"] for tool in tools]\n",
    "\n",
    "messages = [\n",
    "    {\n",
    "        \"role\": \"system\",\n",
    "        \"content\": SYSTEM_PROMPT,\n",
    "    },\n",
    "    {\n",
    "        \"role\": \"user\",\n",
    "        \"content\": \"Explain if else to me\",\n",
    "    },\n",
    "]"
   ]
  },
  {
   "cell_type": "code",
   "execution_count": null,
   "metadata": {},
   "outputs": [],
   "source": [
    "execute_router(\n",
    "    client=client,\n",
    "    tools=tools,\n",
    "    tool_names=tool_names,\n",
    "    weights=weights,\n",
    "    messages=messages,\n",
    ")"
   ]
  }
 ],
 "metadata": {
  "kernelspec": {
   "display_name": "venv",
   "language": "python",
   "name": "python3"
  },
  "language_info": {
   "codemirror_mode": {
    "name": "ipython",
    "version": 3
   },
   "file_extension": ".py",
   "mimetype": "text/x-python",
   "name": "python",
   "nbconvert_exporter": "python",
   "pygments_lexer": "ipython3",
   "version": "3.12.7"
  }
 },
 "nbformat": 4,
 "nbformat_minor": 2
}

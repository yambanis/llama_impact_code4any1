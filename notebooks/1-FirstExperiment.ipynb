{
 "cells": [
  {
   "cell_type": "code",
   "execution_count": 1,
   "metadata": {},
   "outputs": [],
   "source": [
    "# Warning control\n",
    "import warnings\n",
    "warnings.filterwarnings('ignore')\n",
    "\n",
    "import os\n",
    "import yaml\n",
    "from crewai import Agent, Task, Crew"
   ]
  },
  {
   "cell_type": "code",
   "execution_count": 2,
   "metadata": {},
   "outputs": [],
   "source": [
    "from crewai import LLM\n",
    "\n",
    "llm = LLM(\n",
    "    model=\"groq/llama-3.1-70b-versatile\", \n",
    "    api_key=\"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\"\n",
    ")"
   ]
  },
  {
   "cell_type": "code",
   "execution_count": 3,
   "metadata": {},
   "outputs": [],
   "source": [
    "# Define file paths for YAML configurations\n",
    "files = {\n",
    "    'agents': '../configs/basic_config/agents.yaml',\n",
    "    'tasks': '../configs/basic_config/tasks.yaml'\n",
    "}\n",
    "\n",
    "# Load configurations from YAML files\n",
    "configs = {}\n",
    "for config_type, file_path in files.items():\n",
    "    with open(file_path, 'r') as file:\n",
    "        configs[config_type] = yaml.safe_load(file)\n",
    "\n",
    "# Assign loaded configurations to specific variables\n",
    "agents_config = configs['agents']\n",
    "tasks_config = configs['tasks']"
   ]
  },
  {
   "cell_type": "code",
   "execution_count": 7,
   "metadata": {},
   "outputs": [
    {
     "name": "stderr",
     "output_type": "stream",
     "text": [
      "2024-11-09 16:14:03,852 - 8368726272 - __init__.py-__init__:537 - WARNING: Overriding of current TracerProvider is not allowed\n",
      "2024-11-09 16:14:03,855 - 8368726272 - __init__.py-__init__:537 - WARNING: Overriding of current TracerProvider is not allowed\n"
     ]
    }
   ],
   "source": [
    "# Creating Agents\n",
    "onboarding_agent = Agent(\n",
    "  config=agents_config['onboarding_agent'],\n",
    "  llm=llm,\n",
    "  human_input=True\n",
    ")\n",
    "\n",
    "question_creation_agent = Agent(\n",
    "  config=agents_config['question_creation_agent'],\n",
    "  llm=llm\n",
    ")\n",
    "\n",
    "# Creating Tasks\n",
    "user_onboarding = Task(\n",
    "  config=tasks_config['user_onboarding'],\n",
    "  agent=onboarding_agent\n",
    ")\n",
    "\n",
    "question_creation = Task(\n",
    "  config=tasks_config['question_creation'],\n",
    "  agent=question_creation_agent\n",
    ")\n",
    "\n",
    "question_critic = Task(\n",
    "  config=tasks_config['question_critic'],\n",
    "  agent=question_creation_agent\n",
    ")\n",
    "\n",
    "onboarding_crew = Crew(\n",
    "  agents=[\n",
    "    onboarding_agent\n",
    "  ],\n",
    "  tasks=[\n",
    "    user_onboarding\n",
    "  ],\n",
    "  verbose=True\n",
    ")\n",
    "\n",
    "question_crew = Crew(\n",
    "  agents=[\n",
    "    question_creation_agent\n",
    "  ],\n",
    "  tasks=[\n",
    "    question_creation,\n",
    "    question_critic\n",
    "  ],\n",
    "  verbose=True\n",
    ")"
   ]
  },
  {
   "cell_type": "code",
   "execution_count": 9,
   "metadata": {},
   "outputs": [],
   "source": [
    "from crewai import Flow\n",
    "from crewai.flow.flow import listen, start\n",
    "\n",
    "class fullFlow(Flow):\n",
    "    @start()\n",
    "    def user_input(self):\n",
    "        return {\n",
    "            'user_input': \"Oi! Meu nome é Guilherme, tenho 32 anos de idade. Eu nunca programei antes, mas tenho curiosidade de aprender! Eu gosto de futebol e series.\"\n",
    "        }\n",
    "    \n",
    "    @listen(user_input)\n",
    "    def onboarding(self, user_input):\n",
    "        user_info = onboarding_crew.kickoff(inputs=user_input)\n",
    "        self.state['user_info'] = user_info\n",
    "\n",
    "        return user_info\n",
    "    \n",
    "    @listen(onboarding)\n",
    "    def question_creation(self, user_info):\n",
    "        question = question_crew.kickoff(inputs=user_info)\n",
    "    \n",
    "        return question\n"
   ]
  },
  {
   "cell_type": "code",
   "execution_count": 10,
   "metadata": {},
   "outputs": [],
   "source": [
    "flow = fullFlow()"
   ]
  },
  {
   "cell_type": "code",
   "execution_count": 11,
   "metadata": {},
   "outputs": [
    {
     "name": "stdout",
     "output_type": "stream",
     "text": [
      "Plot saved as crewai_flow.html\n"
     ]
    }
   ],
   "source": [
    "flow.plot()"
   ]
  },
  {
   "cell_type": "code",
   "execution_count": 16,
   "metadata": {},
   "outputs": [
    {
     "ename": "RuntimeError",
     "evalue": "asyncio.run() cannot be called from a running event loop",
     "output_type": "error",
     "traceback": [
      "\u001b[0;31m---------------------------------------------------------------------------\u001b[0m",
      "\u001b[0;31mRuntimeError\u001b[0m                              Traceback (most recent call last)",
      "Cell \u001b[0;32mIn[16], line 1\u001b[0m\n\u001b[0;32m----> 1\u001b[0m question \u001b[38;5;241m=\u001b[39m \u001b[38;5;28;01mawait\u001b[39;00m \u001b[43mflow\u001b[49m\u001b[38;5;241;43m.\u001b[39;49m\u001b[43mkickoff\u001b[49m\u001b[43m(\u001b[49m\u001b[43m)\u001b[49m\n",
      "File \u001b[0;32m~/Desktop/llama_impact_code4any1/.venv/lib/python3.12/site-packages/crewai/flow/flow.py:195\u001b[0m, in \u001b[0;36mFlow.kickoff\u001b[0;34m(self)\u001b[0m\n\u001b[1;32m    194\u001b[0m \u001b[38;5;28;01mdef\u001b[39;00m \u001b[38;5;21mkickoff\u001b[39m(\u001b[38;5;28mself\u001b[39m) \u001b[38;5;241m-\u001b[39m\u001b[38;5;241m>\u001b[39m Any:\n\u001b[0;32m--> 195\u001b[0m     \u001b[38;5;28;01mreturn\u001b[39;00m \u001b[43masyncio\u001b[49m\u001b[38;5;241;43m.\u001b[39;49m\u001b[43mrun\u001b[49m\u001b[43m(\u001b[49m\u001b[38;5;28;43mself\u001b[39;49m\u001b[38;5;241;43m.\u001b[39;49m\u001b[43mkickoff_async\u001b[49m\u001b[43m(\u001b[49m\u001b[43m)\u001b[49m\u001b[43m)\u001b[49m\n",
      "File \u001b[0;32m/opt/homebrew/Cellar/python@3.12/3.12.7_1/Frameworks/Python.framework/Versions/3.12/lib/python3.12/asyncio/runners.py:190\u001b[0m, in \u001b[0;36mrun\u001b[0;34m(main, debug, loop_factory)\u001b[0m\n\u001b[1;32m    161\u001b[0m \u001b[38;5;250m\u001b[39m\u001b[38;5;124;03m\"\"\"Execute the coroutine and return the result.\u001b[39;00m\n\u001b[1;32m    162\u001b[0m \n\u001b[1;32m    163\u001b[0m \u001b[38;5;124;03mThis function runs the passed coroutine, taking care of\u001b[39;00m\n\u001b[0;32m   (...)\u001b[0m\n\u001b[1;32m    186\u001b[0m \u001b[38;5;124;03m    asyncio.run(main())\u001b[39;00m\n\u001b[1;32m    187\u001b[0m \u001b[38;5;124;03m\"\"\"\u001b[39;00m\n\u001b[1;32m    188\u001b[0m \u001b[38;5;28;01mif\u001b[39;00m events\u001b[38;5;241m.\u001b[39m_get_running_loop() \u001b[38;5;129;01mis\u001b[39;00m \u001b[38;5;129;01mnot\u001b[39;00m \u001b[38;5;28;01mNone\u001b[39;00m:\n\u001b[1;32m    189\u001b[0m     \u001b[38;5;66;03m# fail fast with short traceback\u001b[39;00m\n\u001b[0;32m--> 190\u001b[0m     \u001b[38;5;28;01mraise\u001b[39;00m \u001b[38;5;167;01mRuntimeError\u001b[39;00m(\n\u001b[1;32m    191\u001b[0m         \u001b[38;5;124m\"\u001b[39m\u001b[38;5;124masyncio.run() cannot be called from a running event loop\u001b[39m\u001b[38;5;124m\"\u001b[39m)\n\u001b[1;32m    193\u001b[0m \u001b[38;5;28;01mwith\u001b[39;00m Runner(debug\u001b[38;5;241m=\u001b[39mdebug, loop_factory\u001b[38;5;241m=\u001b[39mloop_factory) \u001b[38;5;28;01mas\u001b[39;00m runner:\n\u001b[1;32m    194\u001b[0m     \u001b[38;5;28;01mreturn\u001b[39;00m runner\u001b[38;5;241m.\u001b[39mrun(main)\n",
      "\u001b[0;31mRuntimeError\u001b[0m: asyncio.run() cannot be called from a running event loop"
     ]
    }
   ],
   "source": [
    "question = await flow.kickoff()"
   ]
  },
  {
   "cell_type": "code",
   "execution_count": null,
   "metadata": {},
   "outputs": [],
   "source": [
    "from"
   ]
  },
  {
   "cell_type": "code",
   "execution_count": 6,
   "metadata": {},
   "outputs": [
    {
     "name": "stdout",
     "output_type": "stream",
     "text": [
      "\u001b[1m\u001b[95m# Agent:\u001b[00m \u001b[1m\u001b[92mBe a warm and welcoming onboarding assistant\u001b[00m\n",
      "\u001b[95m## Task:\u001b[00m \u001b[92mUse the input from the user to determine their persona, tastes, and knowledge level. Oi! Meu nome é Guilherme, tenho 32 anos de idade. Eu nunca programei antes, mas tenho curiosidade de aprender! Eu gosto de futebol e series.\n",
      "\u001b[00m\n",
      "\n",
      "\n",
      "\u001b[1m\u001b[95m# Agent:\u001b[00m \u001b[1m\u001b[92mBe a warm and welcoming onboarding assistant\u001b[00m\n",
      "\u001b[95m## Final Answer:\u001b[00m \u001b[92m\n",
      "<user_language> Português </user_language>\n",
      "\n",
      "<persona> Guilherme é um homem de 32 anos de idade, provavelmente com uma base sólida de ensino fundamental e médio, mas sem experiência prévia em programação. Ele parece ser uma pessoa com uma abordagem simples e direta, seja em sua linguagem ou em suas preferências pessoais. </persona>\n",
      "\n",
      "<tastes> Guilherme gosta de futebol e séries, o que sugere que ele tem uma preferência por atividades lúdicas e entretenimento. Isso pode indicar que ele aprende melhor através de exemplos práticos e hands-on, com aplicativos e projetos que sejam interessantes e desafiadores. </tastes>\n",
      "\n",
      "<knowledge_level> Guilherme não tem experiência prévia em programação, o que significa que ele está começando do zero. No entanto, sua curiosidade de aprender é um grande ponto positivo, pois demonstra motivação e disposição para aprender. É provável que ele necessite de uma abordagem básica e gradual para aprender a programar, começando com conceitos fundamentais e construindo sobre eles gradualmente. </knowledge_level>\u001b[00m\n",
      "\n",
      "\n",
      "\u001b[1m\u001b[95m# Agent:\u001b[00m \u001b[1m\u001b[92mThe ultimate teacher\u001b[00m\n",
      "\u001b[95m## Task:\u001b[00m \u001b[92mCreate a question tailored to the specific user. Based on their persona, tastes and knowledge level.\n",
      "\u001b[00m\n",
      "\n",
      "\n",
      "\u001b[1m\u001b[95m# Agent:\u001b[00m \u001b[1m\u001b[92mThe ultimate teacher\u001b[00m\n",
      "\u001b[95m## Final Answer:\u001b[00m \u001b[92m\n",
      "Pense em um aplicativo que mostra as estatísticas de um time de futebol. O aplicativo precisa armazenar informações sobre os jogadores, como nome, posição e número de gols marcados. Você precisa decidir como armazenar essas informações.\n",
      "\n",
      "Qual seria a melhor maneira de armazenar essas informações?\n",
      "\n",
      "A) Em uma lista única com todos os jogadores e suas estatísticas.\n",
      "B) Em um dicionário com o nome do jogador como chave e as estatísticas como valor.\n",
      "C) Em uma tabela com colunas para nome, posição e número de gols.\n",
      "D) Em um arquivo de texto com as informações separadas por vírgulas.\u001b[00m\n",
      "\n",
      "\n",
      "\u001b[1m\u001b[95m# Agent:\u001b[00m \u001b[1m\u001b[92mThe ultimate teacher\u001b[00m\n",
      "\u001b[95m## Task:\u001b[00m \u001b[92mProvide feedback on the question created on the question_creation task.\n",
      "\u001b[00m\n",
      "\n",
      "\n",
      "\u001b[1m\u001b[95m# Agent:\u001b[00m \u001b[1m\u001b[92mThe ultimate teacher\u001b[00m\n",
      "\u001b[95m## Final Answer:\u001b[00m \u001b[92m\n",
      "Com base na análise da questão criada, podemos identificar alguns pontos fortes e fracos. \n",
      "\n",
      "Um ponto positivo é que a questão está relacionada ao contexto do aplicativo de futebol, o que é relevante para o usuário. Além disso, a questão apresenta várias opções de respostas, o que permite ao usuário escolher a opção que melhor lhe parece adequada.\n",
      "\n",
      "No entanto, há alguns pontos que podem ser melhorados. Em primeiro lugar, a questão não é específica o suficiente em relação ao conhecimento do usuário. Embora seja relacionada ao contexto do futebol, não é claro quais habilidades ou conceitos específicos o usuário precisa ter para responder corretamente.\n",
      "\n",
      "Além disso, a questão não tem um contexto claro definido para o usuário progredir em seu aprendizado. A questão está mais focada em testar a capacidade do usuário de escolher a opção correta do que em fornecer um desafio que o ajude a aprender ou melhorar suas habilidades.\n",
      "\n",
      "Para melhorar a questão, seria recomendável torná-la mais específica em relação ao conhecimento do usuário e fornecer um contexto mais claro para o usuário progredir em seu aprendizado. Por exemplo, a questão poderia ser reescrita como: \"Considerando que você precisa armazenar informações sobre os jogadores de um time de futebol, como nome, posição e número de gols marcados, e que você tem conhecimento básico de programação, qual seria a melhor maneira de armazenar essas informações?\"\n",
      "\n",
      "Isso permitiria ao usuário aplicar seus conhecimentos e habilidades específicas para responder corretamente à questão e progredir em seu aprendizado de forma mais eficaz.\u001b[00m\n",
      "\n",
      "\n"
     ]
    },
    {
     "data": {
      "text/plain": [
       "CrewOutput(raw='Com base na análise da questão criada, podemos identificar alguns pontos fortes e fracos. \\n\\nUm ponto positivo é que a questão está relacionada ao contexto do aplicativo de futebol, o que é relevante para o usuário. Além disso, a questão apresenta várias opções de respostas, o que permite ao usuário escolher a opção que melhor lhe parece adequada.\\n\\nNo entanto, há alguns pontos que podem ser melhorados. Em primeiro lugar, a questão não é específica o suficiente em relação ao conhecimento do usuário. Embora seja relacionada ao contexto do futebol, não é claro quais habilidades ou conceitos específicos o usuário precisa ter para responder corretamente.\\n\\nAlém disso, a questão não tem um contexto claro definido para o usuário progredir em seu aprendizado. A questão está mais focada em testar a capacidade do usuário de escolher a opção correta do que em fornecer um desafio que o ajude a aprender ou melhorar suas habilidades.\\n\\nPara melhorar a questão, seria recomendável torná-la mais específica em relação ao conhecimento do usuário e fornecer um contexto mais claro para o usuário progredir em seu aprendizado. Por exemplo, a questão poderia ser reescrita como: \"Considerando que você precisa armazenar informações sobre os jogadores de um time de futebol, como nome, posição e número de gols marcados, e que você tem conhecimento básico de programação, qual seria a melhor maneira de armazenar essas informações?\"\\n\\nIsso permitiria ao usuário aplicar seus conhecimentos e habilidades específicas para responder corretamente à questão e progredir em seu aprendizado de forma mais eficaz.', pydantic=None, json_dict=None, tasks_output=[TaskOutput(description='Use the input from the user to determine their persona, tastes, and knowledge level. Oi! Meu nome é Guilherme, tenho 32 anos de idade. Eu nunca programei antes, mas tenho curiosidade de aprender! Eu gosto de futebol e series.\\n', name=None, expected_output=\"<user_language> The language that the user is interacting in. You should use it to reply. </user_language>\\n<persona> Provide a brief description of the user's background, age group, and any relevant personal information gathered during the conversation. </persona>\\n<tastes> List the user's interests, preferences, and learning style based on the information collected. </tastes>\\n<knowledge_level> Assess the user's current knowledge of programming and general scholarship, including any prior experience or education in related fields. </knowledge_level>\\n\", summary='Use the input from the user to determine their persona,...', raw='<user_language> Português </user_language>\\n\\n<persona> Guilherme é um homem de 32 anos de idade, provavelmente com uma base sólida de ensino fundamental e médio, mas sem experiência prévia em programação. Ele parece ser uma pessoa com uma abordagem simples e direta, seja em sua linguagem ou em suas preferências pessoais. </persona>\\n\\n<tastes> Guilherme gosta de futebol e séries, o que sugere que ele tem uma preferência por atividades lúdicas e entretenimento. Isso pode indicar que ele aprende melhor através de exemplos práticos e hands-on, com aplicativos e projetos que sejam interessantes e desafiadores. </tastes>\\n\\n<knowledge_level> Guilherme não tem experiência prévia em programação, o que significa que ele está começando do zero. No entanto, sua curiosidade de aprender é um grande ponto positivo, pois demonstra motivação e disposição para aprender. É provável que ele necessite de uma abordagem básica e gradual para aprender a programar, começando com conceitos fundamentais e construindo sobre eles gradualmente. </knowledge_level>', pydantic=None, json_dict=None, agent='Be a warm and welcoming onboarding assistant\\n', output_format=<OutputFormat.RAW: 'raw'>), TaskOutput(description='Create a question tailored to the specific user. Based on their persona, tastes and knowledge level.\\n', name=None, expected_output=\"A question that is tailored to the user's interests and knowledge level. Make sure to reply in the user's language. The question should contain the following structure: 1. A brief introduction or context to set the stage. Pick a specific topic to teach the user about. 2. The main question that challenges the user's knowledge and encourages critical thinking. 3. A set of multiple-choice answers that provide a range of options for the user to choose from.\\n\", summary='Create a question tailored to the specific user. Based on...', raw='Pense em um aplicativo que mostra as estatísticas de um time de futebol. O aplicativo precisa armazenar informações sobre os jogadores, como nome, posição e número de gols marcados. Você precisa decidir como armazenar essas informações.\\n\\nQual seria a melhor maneira de armazenar essas informações?\\n\\nA) Em uma lista única com todos os jogadores e suas estatísticas.\\nB) Em um dicionário com o nome do jogador como chave e as estatísticas como valor.\\nC) Em uma tabela com colunas para nome, posição e número de gols.\\nD) Em um arquivo de texto com as informações separadas por vírgulas.', pydantic=None, json_dict=None, agent='The ultimate teacher\\n', output_format=<OutputFormat.RAW: 'raw'>), TaskOutput(description='Provide feedback on the question created on the question_creation task.\\n', name=None, expected_output=\"<feedback> Provide constructive feedback on the question created by the question_creation_agent. Is it specific to the user's interests and knowledge level? Does it have a specific context clearly defined for the user to progress in their learning? </feedback>\", summary='Provide feedback on the question created on the question_creation task.\\n...', raw='Com base na análise da questão criada, podemos identificar alguns pontos fortes e fracos. \\n\\nUm ponto positivo é que a questão está relacionada ao contexto do aplicativo de futebol, o que é relevante para o usuário. Além disso, a questão apresenta várias opções de respostas, o que permite ao usuário escolher a opção que melhor lhe parece adequada.\\n\\nNo entanto, há alguns pontos que podem ser melhorados. Em primeiro lugar, a questão não é específica o suficiente em relação ao conhecimento do usuário. Embora seja relacionada ao contexto do futebol, não é claro quais habilidades ou conceitos específicos o usuário precisa ter para responder corretamente.\\n\\nAlém disso, a questão não tem um contexto claro definido para o usuário progredir em seu aprendizado. A questão está mais focada em testar a capacidade do usuário de escolher a opção correta do que em fornecer um desafio que o ajude a aprender ou melhorar suas habilidades.\\n\\nPara melhorar a questão, seria recomendável torná-la mais específica em relação ao conhecimento do usuário e fornecer um contexto mais claro para o usuário progredir em seu aprendizado. Por exemplo, a questão poderia ser reescrita como: \"Considerando que você precisa armazenar informações sobre os jogadores de um time de futebol, como nome, posição e número de gols marcados, e que você tem conhecimento básico de programação, qual seria a melhor maneira de armazenar essas informações?\"\\n\\nIsso permitiria ao usuário aplicar seus conhecimentos e habilidades específicas para responder corretamente à questão e progredir em seu aprendizado de forma mais eficaz.', pydantic=None, json_dict=None, agent='The ultimate teacher\\n', output_format=<OutputFormat.RAW: 'raw'>)], token_usage=UsageMetrics(total_tokens=9881, prompt_tokens=5021, completion_tokens=4860, successful_requests=9))"
      ]
     },
     "execution_count": 6,
     "metadata": {},
     "output_type": "execute_result"
    }
   ],
   "source": [
    "crew.kickoff(inputs=inputs)"
   ]
  },
  {
   "cell_type": "code",
   "execution_count": null,
   "metadata": {},
   "outputs": [],
   "source": []
  }
 ],
 "metadata": {
  "kernelspec": {
   "display_name": ".venv",
   "language": "python",
   "name": "python3"
  },
  "language_info": {
   "codemirror_mode": {
    "name": "ipython",
    "version": 3
   },
   "file_extension": ".py",
   "mimetype": "text/x-python",
   "name": "python",
   "nbconvert_exporter": "python",
   "pygments_lexer": "ipython3",
   "version": "3.12.7"
  }
 },
 "nbformat": 4,
 "nbformat_minor": 2
}
